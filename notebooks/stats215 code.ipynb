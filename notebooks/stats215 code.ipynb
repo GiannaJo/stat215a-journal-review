{
 "cells": [
  {
   "cell_type": "code",
   "execution_count": 1,
   "metadata": {
    "collapsed": true
   },
   "outputs": [],
   "source": [
    "import pandas as pd\n",
    "import numpy as np"
   ]
  },
  {
   "cell_type": "code",
   "execution_count": 71,
   "metadata": {
    "collapsed": false
   },
   "outputs": [
    {
     "name": "stdout",
     "output_type": "stream",
     "text": [
      "1343 1361 263\n"
     ]
    }
   ],
   "source": [
    "rts_colony = pd.read_csv('../data/PittHill_OSFdata_2016/csv/Bishayee Colony Counts 10.27.97-3.8.01.csv',\n",
    "                         skiprows=2,usecols=range(3,7),na_values=' ').dropna(axis=0)\n",
    "rts_colony['col_min'] = rts_colony.apply(lambda row: min(row['col1'],row['col2'],row['col3']) ,axis=1)\n",
    "rts_colony['col_max'] = rts_colony.apply(lambda row: max(row['col1'],row['col2'],row['col3']) ,axis=1)\n",
    "rts_colony['col_gap'] = rts_colony['col_max']-rts_colony['col_min']\n",
    "rts_colony['include_mean'] = rts_colony.apply(lambda row: (row['col1'] == row['average'] or row['col2'] == row['average'] or \n",
    "                                                           row['col3'] == row['average']),axis=1)\n",
    "total = len(rts_colony)\n",
    "complete = len(rts_colony[rts_colony['col_gap'] >= 2])\n",
    "no_mean = len(rts_colony[rts_colony['include_mean'] == True])\n",
    "print complete, total, no_mean"
   ]
  },
  {
   "cell_type": "code",
   "execution_count": 84,
   "metadata": {
    "collapsed": false
   },
   "outputs": [
    {
     "name": "stdout",
     "output_type": "stream",
     "text": [
      "1726 1727 64\n"
     ]
    }
   ],
   "source": [
    "rts_coulter = pd.read_csv('../data/PittHill_OSFdata_2016/csv/Bishayee Coulter Counts.10.20.97-7.16.01.csv', \n",
    "                          skiprows=1,usecols=range(2,6),na_values=' ').dropna(axis=0)\n",
    "rts_coulter['col_min'] = rts_coulter.apply(lambda row: min(row['Count 1'],row['Count 2'],row['Count 3']) ,axis=1)\n",
    "rts_coulter['col_max'] = rts_coulter.apply(lambda row: max(row['Count 1'],row['Count 2'],row['Count 3']) ,axis=1)\n",
    "rts_coulter['col_gap'] = rts_coulter['col_max']-rts_coulter['col_min']\n",
    "rts_coulter['include_mean'] = rts_coulter.apply(lambda row: (row['Count 1'] == row['Average'] or \n",
    "                                                             row['Count 2'] == row['Average'] or \n",
    "                                                             row['Count 3'] == row['Average']),axis=1)\n",
    "total = len(rts_coulter)\n",
    "complete = len(rts_coulter[rts_coulter['col_gap'] >= 2])\n",
    "no_mean = len(rts_coulter[rts_coulter['include_mean'] == True])\n",
    "print complete, total, no_mean\n"
   ]
  },
  {
   "cell_type": "code",
   "execution_count": 85,
   "metadata": {
    "collapsed": false
   },
   "outputs": [
    {
     "name": "stdout",
     "output_type": "stream",
     "text": [
      "270 597 40\n"
     ]
    }
   ],
   "source": [
    "others_colony = pd.read_csv('../data/PittHill_OSFdata_2016/csv/Other Investigators in Lab.Colony Counts.4.23.92-11.27.02.csv', \n",
    "                          skiprows=1,usecols=range(3,7),na_values=' ').dropna(axis=0)\n",
    "others_colony['col_min'] = others_colony.apply(lambda row: min(row['col1'],row['col2'],row['col3']) ,axis=1)\n",
    "others_colony['col_max'] = others_colony.apply(lambda row: max(row['col1'],row['col2'],row['col3']) ,axis=1)\n",
    "others_colony['col_gap'] = others_colony['col_max']-others_colony['col_min']\n",
    "others_colony['include_mean'] = others_colony.apply(lambda row: (row['col1'] == row['average'] or row['col2'] == row['average'] or \n",
    "                                                           row['col3'] == row['average']),axis=1)\n",
    "total = len(others_colony)\n",
    "complete = len(others_colony[others_colony['col_gap'] >= 2])\n",
    "no_mean = len(others_colony[others_colony['include_mean'] == True])\n",
    "print complete, total, no_mean"
   ]
  },
  {
   "cell_type": "code",
   "execution_count": null,
   "metadata": {
    "collapsed": true
   },
   "outputs": [],
   "source": []
  }
 ],
 "metadata": {
  "kernelspec": {
   "display_name": "Python 2",
   "language": "python",
   "name": "python2"
  },
  "language_info": {
   "codemirror_mode": {
    "name": "ipython",
    "version": 2
   },
   "file_extension": ".py",
   "mimetype": "text/x-python",
   "name": "python",
   "nbconvert_exporter": "python",
   "pygments_lexer": "ipython2",
   "version": "2.7.11"
  }
 },
 "nbformat": 4,
 "nbformat_minor": 0
}
